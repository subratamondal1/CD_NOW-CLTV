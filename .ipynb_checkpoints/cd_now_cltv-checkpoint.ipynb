{
 "cells": [
  {
   "cell_type": "markdown",
   "id": "0861fd7d-e8a1-4081-a04c-2bda2a7bc11f",
   "metadata": {},
   "source": [
    "# <center>Customer Lifetime Value - CLTV/CLV</center>\n",
    "---"
   ]
  },
  {
   "cell_type": "markdown",
   "id": "3e24e241-12dd-4e90-b7f2-666b965e9544",
   "metadata": {},
   "source": [
    "Companies uses this as a metric to **extract profitability** and to **focus on which customers**. In simple words CLTV is **profit estimated** from the future relationship with customer. \n",
    "\n",
    "There are various approaches for **modelling CLTV**.\n",
    "1. **Econometric approach**\n",
    "2. **Machine Learning approach**\n",
    "    * Step 1: `Subset a Cohort` - a **cohort** is a group of customers that all start at the same time."
   ]
  },
  {
   "cell_type": "code",
   "execution_count": null,
   "id": "10f1ab18-a152-41b3-8048-2a40dd86b78c",
   "metadata": {},
   "outputs": [],
   "source": []
  }
 ],
 "metadata": {
  "kernelspec": {
   "display_name": "Python 3 (ipykernel)",
   "language": "python",
   "name": "python3"
  },
  "language_info": {
   "codemirror_mode": {
    "name": "ipython",
    "version": 3
   },
   "file_extension": ".py",
   "mimetype": "text/x-python",
   "name": "python",
   "nbconvert_exporter": "python",
   "pygments_lexer": "ipython3",
   "version": "3.11.1"
  }
 },
 "nbformat": 4,
 "nbformat_minor": 5
}
